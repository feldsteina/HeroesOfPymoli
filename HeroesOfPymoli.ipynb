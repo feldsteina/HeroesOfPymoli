{
 "cells": [
  {
   "cell_type": "code",
   "execution_count": 1,
   "metadata": {},
   "outputs": [
    {
     "name": "stdout",
     "output_type": "stream",
     "text": [
      "   Purchase ID             SN  Age Gender  Item ID  \\\n",
      "0            0        Lisim78   20   Male      108   \n",
      "1            1    Lisovynya38   40   Male      143   \n",
      "2            2     Ithergue48   24   Male       92   \n",
      "3            3  Chamassasya86   24   Male      100   \n",
      "4            4      Iskosia90   23   Male      131   \n",
      "\n",
      "                                   Item Name  Price  \n",
      "0  Extraction, Quickblade Of Trembling Hands   3.53  \n",
      "1                          Frenzied Scimitar   1.56  \n",
      "2                               Final Critic   4.88  \n",
      "3                                Blindscythe   3.27  \n",
      "4                                       Fury   1.44  \n"
     ]
    }
   ],
   "source": [
    "# Dependencies and Setup\n",
    "import pandas as pd\n",
    "import numpy as np\n",
    "import os.path as path\n",
    "\n",
    "# File to Load (Remember to Change These)\n",
    "file_to_load = path.join(\"Resources\", \"purchase_data.csv\")\n",
    "\n",
    "# Read Purchasing File and store into Pandas data frame\n",
    "purchase_df = pd.read_csv(file_to_load)\n",
    "\n",
    "print(purchase_df.head())"
   ]
  },
  {
   "cell_type": "code",
   "execution_count": 2,
   "metadata": {},
   "outputs": [
    {
     "name": "stdout",
     "output_type": "stream",
     "text": [
      "Total unique players: 576\n"
     ]
    }
   ],
   "source": [
    "unique_player_df = purchase_df.drop_duplicates(subset=\"SN\", keep=\"first\")\n",
    "\n",
    "unique_player_count = unique_player_df.shape[0]\n",
    "\n",
    "print(f\"Total unique players: {unique_player_count}\")"
   ]
  },
  {
   "cell_type": "code",
   "execution_count": 3,
   "metadata": {},
   "outputs": [
    {
     "name": "stdout",
     "output_type": "stream",
     "text": [
      "Number of unique items: 183\n",
      "Average sale price: $3.05\n",
      "Total number of purchases: 780\n",
      "Total revenue: $2379.77\n"
     ]
    }
   ],
   "source": [
    "unique_item_df = purchase_df.drop_duplicates(subset=\"Item ID\")\n",
    "\n",
    "unique_item_count = unique_item_df.shape[0]\n",
    "\n",
    "total_purchase_count = purchase_df.shape[0]\n",
    "\n",
    "total_revenue = round(purchase_df.sum(axis=0)[\"Price\"], 2)\n",
    "\n",
    "average_sale_price = round((total_revenue / total_purchase_count), 2)\n",
    "\n",
    "print(f\"Number of unique items: {unique_item_count}\")\n",
    "print(f\"Average sale price: ${average_sale_price}\")\n",
    "print(f\"Total number of purchases: {total_purchase_count}\")\n",
    "print(f\"Total revenue: ${total_revenue}\")"
   ]
  },
  {
   "cell_type": "code",
   "execution_count": 4,
   "metadata": {},
   "outputs": [
    {
     "name": "stdout",
     "output_type": "stream",
     "text": [
      "Unique male players:  484 | 84.03 %\n",
      "Unique female players: 81 | 14.06 %\n",
      "Unique other players:  11 | 1.91 %\n"
     ]
    }
   ],
   "source": [
    "male_df = purchase_df[purchase_df[\"Gender\"]==\"Male\"]\n",
    "unique_male_df = male_df.drop_duplicates(subset=\"SN\", keep=\"first\")\n",
    "unique_male_count = unique_male_df.shape[0]\n",
    "male_percent = round((unique_male_count / unique_player_count * 100), 2)\n",
    "\n",
    "female_df = purchase_df[purchase_df[\"Gender\"]==\"Female\"]\n",
    "unique_female_df = female_df.drop_duplicates(subset=\"SN\", keep=\"first\")\n",
    "unique_female_count = unique_female_df.shape[0]\n",
    "female_percent = round((unique_female_count / unique_player_count * 100), 2)\n",
    "\n",
    "other_df = purchase_df[purchase_df[\"Gender\"]==\"Other / Non-Disclosed\"]\n",
    "unique_other_df = other_df.drop_duplicates(subset=\"SN\", keep=\"first\")\n",
    "unique_other_count = unique_other_df.shape[0]\n",
    "other_percent = round((unique_other_count / unique_player_count * 100), 2)\n",
    "\n",
    "print(f\"Unique male players:  {unique_male_count} | {male_percent} %\")\n",
    "print(f\"Unique female players: {unique_female_count} | {female_percent} %\")\n",
    "print(f\"Unique other players:  {unique_other_count} | {other_percent} %\")"
   ]
  },
  {
   "cell_type": "code",
   "execution_count": 5,
   "metadata": {},
   "outputs": [
    {
     "name": "stdout",
     "output_type": "stream",
     "text": [
      "Number of sales to men: 652\n",
      "Average men's purchase price: $3.02\n",
      "Total revenue from men: $1967.64\n",
      "Average revenue per male: $4.07\n",
      "\n",
      "Number of sales to women: 113\n",
      "Average women's purchase price: $3.2\n",
      "Total revenue from women: $361.94\n",
      "Average revenue per female: $4.47\n",
      "\n",
      "Number of sales to other: 15\n",
      "Average other's purchase price: $3.35\n",
      "Total revenue from other: $50.19\n",
      "Average revenue per other: $4.56\n"
     ]
    }
   ],
   "source": [
    "male_purchase_count = male_df.shape[0]\n",
    "male_revenue = round(male_df.sum(axis=0)[\"Price\"], 2)\n",
    "male_average_purchase = round((male_revenue / male_purchase_count), 2)\n",
    "male_total_revenue_per_person_df = male_df.groupby(\"SN\")[\"Price\"].sum()\n",
    "male_purchases_per_person_count = male_df.groupby(\"SN\")[\"Price\"].count()\n",
    "male_average_revenue_per_person_df = round((male_total_revenue_per_person_df / male_purchases_per_person_count), 2)\n",
    "male_average_revenue_per_person = round((male_total_revenue_per_person_df.sum()/unique_male_count), 2)\n",
    "\n",
    "female_purchase_count = female_df.shape[0]\n",
    "female_revenue = round(female_df.sum(axis=0)[\"Price\"], 2)\n",
    "female_average_purchase = round((female_revenue / female_purchase_count), 2)\n",
    "female_total_revenue_per_person_df = female_df.groupby(\"SN\")[\"Price\"].sum()\n",
    "female_purchases_per_person_count = female_df.groupby(\"SN\")[\"Price\"].count()\n",
    "female_average_revenue_per_person_df = round((female_total_revenue_per_person_df / female_purchases_per_person_count), 2)\n",
    "female_average_revenue_per_person = round((female_total_revenue_per_person_df.sum()/unique_female_count), 2)\n",
    "\n",
    "other_purchase_count = other_df.shape[0]\n",
    "other_revenue = round(other_df.sum(axis=0)[\"Price\"], 2)\n",
    "other_average_purchase = round((other_revenue / other_purchase_count), 2)\n",
    "other_total_revenue_per_person_df = other_df.groupby(\"SN\")[\"Price\"].sum()\n",
    "other_purchases_per_person_count = other_df.groupby(\"SN\")[\"Price\"].count()\n",
    "other_average_revenue_per_person_df = round((other_total_revenue_per_person_df / other_purchases_per_person_count), 2)\n",
    "other_average_revenue_per_person = round((other_total_revenue_per_person_df.sum()/unique_other_count), 2)\n",
    "\n",
    "print(f\"Number of sales to men: {male_purchase_count}\")\n",
    "print(f\"Average men's purchase price: ${male_average_purchase}\")\n",
    "print(f\"Total revenue from men: ${male_revenue}\")\n",
    "print(f\"Average revenue per male: ${male_average_revenue_per_person}\")\n",
    "print(f\"\\nNumber of sales to women: {female_purchase_count}\")\n",
    "print(f\"Average women's purchase price: ${female_average_purchase}\")\n",
    "print(f\"Total revenue from women: ${female_revenue}\")\n",
    "print(f\"Average revenue per female: ${female_average_revenue_per_person}\")\n",
    "print(f\"\\nNumber of sales to other: {other_purchase_count}\")\n",
    "print(f\"Average other's purchase price: ${other_average_purchase}\")\n",
    "print(f\"Total revenue from other: ${other_revenue}\")\n",
    "print(f\"Average revenue per other: ${other_average_revenue_per_person}\")"
   ]
  },
  {
   "cell_type": "code",
   "execution_count": null,
   "metadata": {},
   "outputs": [],
   "source": []
  }
 ],
 "metadata": {
  "anaconda-cloud": {},
  "kernel_info": {
   "name": "python3"
  },
  "kernelspec": {
   "display_name": "Python 3",
   "language": "python",
   "name": "python3"
  },
  "language_info": {
   "codemirror_mode": {
    "name": "ipython",
    "version": 3
   },
   "file_extension": ".py",
   "mimetype": "text/x-python",
   "name": "python",
   "nbconvert_exporter": "python",
   "pygments_lexer": "ipython3",
   "version": "3.6.7"
  },
  "nteract": {
   "version": "0.2.0"
  }
 },
 "nbformat": 4,
 "nbformat_minor": 2
}
