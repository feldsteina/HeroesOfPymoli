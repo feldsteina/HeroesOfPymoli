{
 "cells": [
  {
   "cell_type": "markdown",
   "metadata": {},
   "source": [
    "### Heroes Of Pymoli Data Analysis\n",
    "* Of the 576 unique players who have made a purchase, 84% are male.\n",
    " \n",
    "-----"
   ]
  },
  {
   "cell_type": "code",
   "execution_count": 1,
   "metadata": {},
   "outputs": [],
   "source": [
    "# Dependencies and Setup\n",
    "import pandas as pd\n",
    "import numpy as np\n",
    "import os.path as path\n",
    "\n",
    "# File to Load (Remember to Change These)\n",
    "file_to_load = path.join(\"Resources\", \"purchase_data.csv\")\n",
    "\n",
    "# Read Purchasing File and store into Pandas data frame\n",
    "purchase_data = pd.read_csv(file_to_load)"
   ]
  },
  {
   "cell_type": "markdown",
   "metadata": {},
   "source": [
    "## Player Count"
   ]
  },
  {
   "cell_type": "markdown",
   "metadata": {},
   "source": [
    "* Display the total number of players\n"
   ]
  },
  {
   "cell_type": "code",
   "execution_count": 2,
   "metadata": {},
   "outputs": [
    {
     "name": "stdout",
     "output_type": "stream",
     "text": [
      "576\n"
     ]
    }
   ],
   "source": [
    "unique_players = purchase_data[[\"SN\"]].groupby(\"SN\").nunique()\n",
    "print(len(unique_players.index))"
   ]
  },
  {
   "cell_type": "markdown",
   "metadata": {},
   "source": [
    "## Purchasing Analysis (Total)"
   ]
  },
  {
   "cell_type": "markdown",
   "metadata": {},
   "source": [
    "* Run basic calculations to obtain number of unique items, average price, etc.\n",
    "\n",
    "\n",
    "* Create a summary data frame to hold the results\n",
    "\n",
    "\n",
    "* Optional: give the displayed data cleaner formatting\n",
    "\n",
    "\n",
    "* Display the summary data frame\n"
   ]
  },
  {
   "cell_type": "code",
   "execution_count": 3,
   "metadata": {
    "scrolled": true
   },
   "outputs": [
    {
     "name": "stdout",
     "output_type": "stream",
     "text": [
      "179\n",
      "780\n",
      "3.050987179487176\n",
      "2379.7699999999973\n"
     ]
    },
    {
     "data": {
      "text/html": [
       "<div>\n",
       "<style scoped>\n",
       "    .dataframe tbody tr th:only-of-type {\n",
       "        vertical-align: middle;\n",
       "    }\n",
       "\n",
       "    .dataframe tbody tr th {\n",
       "        vertical-align: top;\n",
       "    }\n",
       "\n",
       "    .dataframe thead th {\n",
       "        text-align: right;\n",
       "    }\n",
       "</style>\n",
       "<table border=\"1\" class=\"dataframe\">\n",
       "  <thead>\n",
       "    <tr style=\"text-align: right;\">\n",
       "      <th></th>\n",
       "      <th>Unique Items Sold</th>\n",
       "      <th>Number of Purchases</th>\n",
       "      <th>Average Sale Price</th>\n",
       "      <th>Total Revenue</th>\n",
       "    </tr>\n",
       "  </thead>\n",
       "  <tbody>\n",
       "    <tr>\n",
       "      <th>0</th>\n",
       "      <td>179</td>\n",
       "      <td>780</td>\n",
       "      <td>3.05</td>\n",
       "      <td>2379.77</td>\n",
       "    </tr>\n",
       "  </tbody>\n",
       "</table>\n",
       "</div>"
      ],
      "text/plain": [
       "   Unique Items Sold  Number of Purchases Average Sale Price  Total Revenue\n",
       "0                179                  780               3.05        2379.77"
      ]
     },
     "execution_count": 3,
     "metadata": {},
     "output_type": "execute_result"
    }
   ],
   "source": [
    "unique_items = purchase_data[[\"Item Name\"]].groupby(\"Item Name\").nunique()\n",
    "\n",
    "total_revenue = 0.0\n",
    "\n",
    "for items in purchase_data[\"Price\"]:\n",
    "    total_revenue = total_revenue + items\n",
    "\n",
    "average_price = total_revenue / len(purchase_data[[\"Price\"]].index)\n",
    "\n",
    "purchases_count = len(purchase_data[[\"Purchase ID\"]].index)\n",
    "\n",
    "print(len(unique_items.index))\n",
    "\n",
    "print(purchases_count)\n",
    "\n",
    "print(average_price)\n",
    "\n",
    "print(total_revenue)\n",
    "\n",
    "summary_data = pd.DataFrame({\n",
    "    \"Unique Items Sold\": [len(unique_items.index)],\n",
    "    \"Number of Purchases\": [purchases_count],\n",
    "    \"Average Sale Price\": [average_price],\n",
    "    \"Total Revenue\": [total_revenue]\n",
    "})\n",
    "\n",
    "summary_data[\"Average Sale Price\"] = summary_data[\"Average Sale Price\"].map(\"{:,.2f}\".format)\n",
    "summary_data.head()"
   ]
  },
  {
   "cell_type": "markdown",
   "metadata": {},
   "source": [
    "## Gender Demographics"
   ]
  },
  {
   "cell_type": "markdown",
   "metadata": {},
   "source": [
    "* Percentage and Count of Male Players\n",
    "\n",
    "\n",
    "* Percentage and Count of Female Players\n",
    "\n",
    "\n",
    "* Percentage and Count of Other / Non-Disclosed\n",
    "\n",
    "\n"
   ]
  },
  {
   "cell_type": "code",
   "execution_count": 5,
   "metadata": {},
   "outputs": [
    {
     "name": "stdout",
     "output_type": "stream",
     "text": [
      "Male Players:   83.59% | 652\n",
      "Female Players: 14.49% | 113\n",
      "Other Players:   1.92% | 15\n"
     ]
    }
   ],
   "source": [
    "male_count = 0\n",
    "female_count = 0\n",
    "other_count = 0\n",
    "\n",
    "for items in purchase_data[\"Gender\"]:\n",
    "    if items.lower() == \"male\":\n",
    "        male_count = male_count + 1\n",
    "    elif items.lower() == \"female\":\n",
    "        female_count = female_count + 1\n",
    "    elif ((items.lower() != \"male\") & (items.lower() != \"female\")):\n",
    "        other_count = other_count + 1\n",
    "\n",
    "male_percent = male_count / len(purchase_data[\"Gender\"].index) * 100\n",
    "female_percent = female_count / len(purchase_data[\"Gender\"].index) * 100\n",
    "other_percent = other_count / len(purchase_data[\"Gender\"].index) * 100\n",
    "\n",
    "print(f\"Male Players:   {male_percent:.2f}% | {male_count}\")\n",
    "print(f\"Female Players: {female_percent:.2f}% | {female_count}\")\n",
    "print(f\"Other Players:   {other_percent:.2f}% | {other_count}\")"
   ]
  },
  {
   "cell_type": "markdown",
   "metadata": {},
   "source": [
    "\n",
    "## Purchasing Analysis (Gender)"
   ]
  },
  {
   "cell_type": "markdown",
   "metadata": {},
   "source": [
    "* Run basic calculations to obtain purchase count, avg. purchase price, avg. purchase total per person etc. by gender\n",
    "\n",
    "\n",
    "\n",
    "\n",
    "* Create a summary data frame to hold the results\n",
    "\n",
    "\n",
    "* Optional: give the displayed data cleaner formatting\n",
    "\n",
    "\n",
    "* Display the summary data frame"
   ]
  },
  {
   "cell_type": "code",
   "execution_count": null,
   "metadata": {},
   "outputs": [],
   "source": [
    "male_purchase_count = 0\n",
    "female_purchase_count = 0\n",
    "other_purchase_count = 0\n",
    "male_total_revenue = 0.0\n",
    "female_total_revenue = 0.0\n",
    "other_total_revenue = 0.0\n",
    "\n",
    "for items in purchase_data.itertuples():\n",
    "#     print(items)\n",
    "    if str.lower(items[4]) == \"male\":\n",
    "        male_purchase_count = male_purchase_count + 1\n",
    "        male_total_revenue = male_total_revenue + items[7]\n",
    "    elif str.lower(items[4]) == \"female\":\n",
    "        female_purchase_count = female_purchase_count + 1\n",
    "        female_total_revenue = female_total_revenue + items[7]\n",
    "    elif ((str.lower(items[4]) != \"male\") & (str.lower(items[4]) != \"female\")):\n",
    "        other_purchase_count = other_purchase_count + 1\n",
    "        other_total_revenue = other_total_revenue + items[7]\n",
    "        \n",
    "print(male_purchase_count)\n",
    "print(female_purchase_count)\n",
    "print(other_purchase_count)"
   ]
  },
  {
   "cell_type": "markdown",
   "metadata": {},
   "source": [
    "## Age Demographics"
   ]
  },
  {
   "cell_type": "markdown",
   "metadata": {},
   "source": [
    "* Establish bins for ages\n",
    "\n",
    "\n",
    "* Categorize the existing players using the age bins. Hint: use pd.cut()\n",
    "\n",
    "\n",
    "* Calculate the numbers and percentages by age group\n",
    "\n",
    "\n",
    "* Create a summary data frame to hold the results\n",
    "\n",
    "\n",
    "* Optional: round the percentage column to two decimal points\n",
    "\n",
    "\n",
    "* Display Age Demographics Table\n"
   ]
  },
  {
   "cell_type": "code",
   "execution_count": null,
   "metadata": {},
   "outputs": [],
   "source": []
  },
  {
   "cell_type": "markdown",
   "metadata": {},
   "source": [
    "## Purchasing Analysis (Age)"
   ]
  },
  {
   "cell_type": "markdown",
   "metadata": {},
   "source": [
    "* Bin the purchase_data data frame by age\n",
    "\n",
    "\n",
    "* Run basic calculations to obtain purchase count, avg. purchase price, avg. purchase total per person etc. in the table below\n",
    "\n",
    "\n",
    "* Create a summary data frame to hold the results\n",
    "\n",
    "\n",
    "* Optional: give the displayed data cleaner formatting\n",
    "\n",
    "\n",
    "* Display the summary data frame"
   ]
  },
  {
   "cell_type": "code",
   "execution_count": null,
   "metadata": {},
   "outputs": [],
   "source": []
  },
  {
   "cell_type": "markdown",
   "metadata": {},
   "source": [
    "## Top Spenders"
   ]
  },
  {
   "cell_type": "markdown",
   "metadata": {},
   "source": [
    "* Run basic calculations to obtain the results in the table below\n",
    "\n",
    "\n",
    "* Create a summary data frame to hold the results\n",
    "\n",
    "\n",
    "* Sort the total purchase value column in descending order\n",
    "\n",
    "\n",
    "* Optional: give the displayed data cleaner formatting\n",
    "\n",
    "\n",
    "* Display a preview of the summary data frame\n",
    "\n"
   ]
  },
  {
   "cell_type": "code",
   "execution_count": null,
   "metadata": {},
   "outputs": [],
   "source": []
  },
  {
   "cell_type": "markdown",
   "metadata": {},
   "source": [
    "## Most Popular Items"
   ]
  },
  {
   "cell_type": "markdown",
   "metadata": {},
   "source": [
    "* Retrieve the Item ID, Item Name, and Item Price columns\n",
    "\n",
    "\n",
    "* Group by Item ID and Item Name. Perform calculations to obtain purchase count, item price, and total purchase value\n",
    "\n",
    "\n",
    "* Create a summary data frame to hold the results\n",
    "\n",
    "\n",
    "* Sort the purchase count column in descending order\n",
    "\n",
    "\n",
    "* Optional: give the displayed data cleaner formatting\n",
    "\n",
    "\n",
    "* Display a preview of the summary data frame\n",
    "\n"
   ]
  },
  {
   "cell_type": "code",
   "execution_count": null,
   "metadata": {},
   "outputs": [],
   "source": []
  },
  {
   "cell_type": "markdown",
   "metadata": {},
   "source": [
    "## Most Profitable Items"
   ]
  },
  {
   "cell_type": "markdown",
   "metadata": {},
   "source": [
    "* Sort the above table by total purchase value in descending order\n",
    "\n",
    "\n",
    "* Optional: give the displayed data cleaner formatting\n",
    "\n",
    "\n",
    "* Display a preview of the data frame\n",
    "\n"
   ]
  },
  {
   "cell_type": "code",
   "execution_count": null,
   "metadata": {
    "scrolled": true
   },
   "outputs": [],
   "source": []
  }
 ],
 "metadata": {
  "anaconda-cloud": {},
  "kernel_info": {
   "name": "python3"
  },
  "kernelspec": {
   "display_name": "Python 3",
   "language": "python",
   "name": "python3"
  },
  "language_info": {
   "codemirror_mode": {
    "name": "ipython",
    "version": 3
   },
   "file_extension": ".py",
   "mimetype": "text/x-python",
   "name": "python",
   "nbconvert_exporter": "python",
   "pygments_lexer": "ipython3",
   "version": "3.6.7"
  },
  "nteract": {
   "version": "0.2.0"
  }
 },
 "nbformat": 4,
 "nbformat_minor": 2
}
